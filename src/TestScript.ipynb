{
 "cells": [
  {
   "cell_type": "code",
   "execution_count": 1,
   "metadata": {},
   "outputs": [
    {
     "name": "stdout",
     "output_type": "stream",
     "text": [
      "Results of read:\n",
      "<pymongo.cursor.Cursor object at 0x7fca905a9ef0>\n",
      "Results of create:\n",
      "True\n"
     ]
    }
   ],
   "source": [
    "from AnimalShelter import AnimalShelter\n",
    "\n",
    "x = AnimalShelter()\n",
    "print(\"Results of read:\")\n",
    "print(x.read( {'breed': \"Pit Bull Mix\" } ))\n",
    "print(\"Results of create:\")\n",
    "print(x.create({'breed': \"test\" }))"
   ]
  }
 ],
 "metadata": {
  "kernelspec": {
   "display_name": "Python 3 (ipykernel)",
   "language": "python",
   "name": "python3"
  },
  "language_info": {
   "codemirror_mode": {
    "name": "ipython",
    "version": 3
   },
   "file_extension": ".py",
   "mimetype": "text/x-python",
   "name": "python",
   "nbconvert_exporter": "python",
   "pygments_lexer": "ipython3",
   "version": "3.9.7"
  }
 },
 "nbformat": 4,
 "nbformat_minor": 2
}
