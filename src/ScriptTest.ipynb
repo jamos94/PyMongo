{
 "cells": [
  {
   "cell_type": "code",
   "execution_count": 1,
   "metadata": {},
   "outputs": [
    {
     "name": "stdout",
     "output_type": "stream",
     "text": [
      "Results of read: \n",
      "<pymongo.cursor.Cursor object at 0x7f6c1420d668>\n",
      "results of create: \n",
      "True\n",
      "Results of update:\n",
      "{'n': 0, 'nModified': 0, 'ok': 1.0, 'updatedExisting': False}\n",
      "Results of delete:\n",
      "{'n': 77, 'ok': 1.0}\n"
     ]
    }
   ],
   "source": [
    "from AnimalShelter import AnimalShelter\n",
    "x = AnimalShelter()\n",
    "print(\"Results of read: \")\n",
    "print(x.read({'breed' : \"pitbulll\"}))\n",
    "print(\"results of create: \")\n",
    "print(x.create({'breed' : \"test\"}))\n",
    "print(\"Results of update:\")\n",
    "print(x.update({'name':'Smudge'},{'name':'Mr. Smudge'}))\n",
    "print(\"Results of delete:\")\n",
    "print(x.delete({'breed' : \"test\"}))"
   ]
  },
  {
   "cell_type": "code",
   "execution_count": null,
   "metadata": {},
   "outputs": [],
   "source": []
  },
  {
   "cell_type": "code",
   "execution_count": null,
   "metadata": {},
   "outputs": [],
   "source": []
  },
  {
   "cell_type": "code",
   "execution_count": null,
   "metadata": {},
   "outputs": [],
   "source": []
  }
 ],
 "metadata": {
  "kernelspec": {
   "display_name": "Python 3",
   "language": "python",
   "name": "python3"
  },
  "language_info": {
   "codemirror_mode": {
    "name": "ipython",
    "version": 3
   },
   "file_extension": ".py",
   "mimetype": "text/x-python",
   "name": "python",
   "nbconvert_exporter": "python",
   "pygments_lexer": "ipython3",
   "version": "3.6.9"
  }
 },
 "nbformat": 4,
 "nbformat_minor": 2
}
